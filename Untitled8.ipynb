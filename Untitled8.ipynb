{
  "nbformat": 4,
  "nbformat_minor": 0,
  "metadata": {
    "colab": {
      "provenance": [],
      "authorship_tag": "ABX9TyMn/w0heyrl4ZTG7OTP4Nwl",
      "include_colab_link": true
    },
    "kernelspec": {
      "name": "python3",
      "display_name": "Python 3"
    },
    "language_info": {
      "name": "python"
    }
  },
  "cells": [
    {
      "cell_type": "markdown",
      "metadata": {
        "id": "view-in-github",
        "colab_type": "text"
      },
      "source": [
        "<a href=\"https://colab.research.google.com/github/jhjini/BP_05_Ch4/blob/main/Untitled8.ipynb\" target=\"_parent\"><img src=\"https://colab.research.google.com/assets/colab-badge.svg\" alt=\"Open In Colab\"/></a>"
      ]
    },
    {
      "cell_type": "markdown",
      "source": [
        "1. 문자열과 숫자는 합칠 수 없다. 숫자를 문자열로 변환한 후에 문자열과 합쳐야 한다."
      ],
      "metadata": {
        "id": "tsXjGGLRPvem"
      }
    },
    {
      "cell_type": "code",
      "source": [
        "print('나는'+ str(12) +'개의 사과를 먹었다.')"
      ],
      "metadata": {
        "colab": {
          "base_uri": "https://localhost:8080/"
        },
        "id": "QqrrN1_RP3HQ",
        "outputId": "315e614b-c7f5-4adc-8c49-829bb4e25a1b"
      },
      "execution_count": 2,
      "outputs": [
        {
          "output_type": "stream",
          "name": "stdout",
          "text": [
            "나는12개의 사과를 먹었다.\n"
          ]
        }
      ]
    },
    {
      "cell_type": "markdown",
      "source": [
        "2. 다음과 같은 수식을 계산하면 결과는 무엇인가?"
      ],
      "metadata": {
        "id": "4k1_ZNqhQG6e"
      }
    },
    {
      "cell_type": "code",
      "source": [
        "print('apple'+'grape')\n",
        "print('apple'*3)"
      ],
      "metadata": {
        "colab": {
          "base_uri": "https://localhost:8080/"
        },
        "id": "E4BSO6znQLkW",
        "outputId": "d9921bb5-297c-4a74-bdd3-22ccd09cf9e7"
      },
      "execution_count": 3,
      "outputs": [
        {
          "output_type": "stream",
          "name": "stdout",
          "text": [
            "applegrape\n",
            "appleappleapple\n"
          ]
        }
      ]
    },
    {
      "cell_type": "markdown",
      "source": [
        "3. 다음과 같이 사용자가 입력한 문자열 중에서 처음 2글자를 추출한 후에 이들을 합쳐서 출력해보자."
      ],
      "metadata": {
        "id": "-0GA96pYQT1Q"
      }
    },
    {
      "cell_type": "code",
      "source": [
        "str=input(\"문자열을 입력하시오: \")\n",
        "s=str[0:2]+str[-2:]\n",
        "\n",
        "print(s)"
      ],
      "metadata": {
        "colab": {
          "base_uri": "https://localhost:8080/"
        },
        "id": "YVaTIXzGQfXI",
        "outputId": "fee3bfb5-4b0e-4713-e3ff-eac4ad539148"
      },
      "execution_count": 6,
      "outputs": [
        {
          "output_type": "stream",
          "name": "stdout",
          "text": [
            "문자열을 입력하시오: python\n",
            "pyon\n"
          ]
        }
      ]
    },
    {
      "cell_type": "markdown",
      "source": [
        "4. 다음과 같이 사용자가 입력한 문자열 뒤에 항상 \"하는 중\"를 붙이는 프로그램을 작성해보자."
      ],
      "metadata": {
        "id": "VxlipukgRIRq"
      }
    },
    {
      "cell_type": "code",
      "source": [
        "s=input(\"문자열을 입력하시오: \")\n",
        "s+=\"하는 중\"\n",
        "print(s)"
      ],
      "metadata": {
        "colab": {
          "base_uri": "https://localhost:8080/"
        },
        "id": "npzjbH71RTFV",
        "outputId": "083206f9-7bc1-4045-ba3f-c5facd200d50"
      },
      "execution_count": 7,
      "outputs": [
        {
          "output_type": "stream",
          "name": "stdout",
          "text": [
            "문자열을 입력하시오: 청소\n",
            "청소하는 중\n"
          ]
        }
      ]
    },
    {
      "cell_type": "markdown",
      "source": [
        "5. 사용자가 입력한 기호 안에 문자열을 삽입하려면 어떻게 해야 하는가? 기호는 문자 2개로 이루어있다고 가정한다."
      ],
      "metadata": {
        "id": "GqqmZiOgReqy"
      }
    },
    {
      "cell_type": "code",
      "source": [
        "str=input(\"기호를 입력하시오: \")\n",
        "word=input(\"중간에 삽입할 문자열을 입력하시오: \")\n",
        "s=str[:1]+word+str[1:]\n",
        "\n",
        "print(s)"
      ],
      "metadata": {
        "colab": {
          "base_uri": "https://localhost:8080/"
        },
        "id": "_sfcm9m7Rm6p",
        "outputId": "eb50b338-bb71-4972-9e67-3443fa55f937"
      },
      "execution_count": 8,
      "outputs": [
        {
          "output_type": "stream",
          "name": "stdout",
          "text": [
            "기호를 입력하시오: []\n",
            "중간에 삽입할 문자열을 입력하시오: python\n",
            "[python]\n"
          ]
        }
      ]
    },
    {
      "cell_type": "markdown",
      "source": [
        "6. 4개의 숫자가 들어 있는 리스트가 있다. 리스트 안의 숫자들을 꺼내서 합계를 계산하여 출력하는 프로그램을 작성하여라. 반복문은 사용하지 않는다. 리스트의 길이는 항상 4라고 가정한다."
      ],
      "metadata": {
        "id": "6JkeOVDrR-0-"
      }
    },
    {
      "cell_type": "code",
      "source": [
        "lista = [1, 2, 3, 4]\n",
        "sum = 0\n",
        "sum=lista[0]+lista[1]+lista[2]+lista[3]\n",
        "print(\"리스트 = \", lista)\n",
        "print(\"리스트 숫자들의 합 = \", sum)"
      ],
      "metadata": {
        "colab": {
          "base_uri": "https://localhost:8080/"
        },
        "id": "GxcXnkAVSzMe",
        "outputId": "2f15c06c-c768-4eba-9c16-730dabe3ee77"
      },
      "execution_count": 9,
      "outputs": [
        {
          "output_type": "stream",
          "name": "stdout",
          "text": [
            "리스트 =  [1, 2, 3, 4]\n",
            "리스트 숫자들의 합 =  10\n"
          ]
        }
      ]
    },
    {
      "cell_type": "markdown",
      "source": [
        "7. 사용자가 입력하는 3가지 색상을 리스트에 저장하였다가 하나씩 꺼내서 그 색상으로 채워진 원을 그리는 프로그램을 작성해보자. 반복문은 사용하지 않는다. 채워진 원을 그리려면 다음과 같은 문장들을 사용한다."
      ],
      "metadata": {
        "id": "bqsvFI3LTSEl"
      }
    },
    {
      "cell_type": "code",
      "source": [
        "import turtle\n",
        "t = turtle.Turtle()\n",
        "t.shape(\"turtle\")\n",
        "lista = []\n",
        "color = input(\"색상 #1을 입력하시오: \")\n",
        "색상 #1을 입력하시오: yellow\n",
        "lista.append(color)\n",
        "color = input(\"색상 #2을 입력하시오: \")\n",
        "색상 #2을 입력하시오: red\n",
        "lista.append(color)\n",
        "color = input(\"색상 #3을 입력하시오: \")\n",
        "색상 #3을 입력하시오: blue\n",
        "lista.append(color)\n",
        "t.fillcolor(lista[0])\n",
        "t.begin_fill()\n",
        "t.circle(50)\n",
        "t.end_fill()\n",
        "t.up()\n",
        "t.goto(100, 0)\n",
        "t.down()\n",
        "t.fillcolor(lista[1])\n",
        "t.begin_fill()\n",
        "t.circle(50)\n",
        "t.end_fill()\n",
        "t.up()\n",
        "t.goto(200, 0)\n",
        "t.down()\n",
        "t.fillcolor(lista[2])\n",
        "t.begin_fill()\n",
        "t.circle(50)\n",
        "t.end_fill()"
      ],
      "metadata": {
        "id": "1Ah47dpyToEo"
      },
      "execution_count": null,
      "outputs": []
    },
    {
      "cell_type": "markdown",
      "source": [
        "8. 사용자가 입려하는 3개의 좌표 (x, y)를 리스트에 저장한다. 이들 좌표를 꺼내서 거북이를 이동하는 프로그램을 작성해보자."
      ],
      "metadata": {
        "id": "prSyiDNEW1O_"
      }
    },
    {
      "cell_type": "code",
      "source": [
        "import turtle\n",
        "t = turtle.Turtle()\n",
        "t.shape(\"turtle\")\n",
        "lista = []\n",
        "lista.append(int(input(\"x1: \")))\n",
        "x1: 0\n",
        "lista.append(int(input(\"y1: \")))\n",
        "y1: 0\n",
        "lista.append(int(input(\"x2: \")))\n",
        "x2: 100\n",
        "lista.append(int(input(\"y2: \")))\n",
        "y2: 100\n",
        "lista.append(int(input(\"x3: \")))\n",
        "x3: 200\n",
        "lista.append(int(input(\"y3: \")))\n",
        "y3: 100\n",
        "t.goto(lista[0], lista[1])\n",
        "t.goto(lista[2], lista[3])\n",
        "t.goto(lista[4], lista[5])\n"
      ],
      "metadata": {
        "id": "Gs-ffbRnW8Bf"
      },
      "execution_count": null,
      "outputs": []
    }
  ]
}